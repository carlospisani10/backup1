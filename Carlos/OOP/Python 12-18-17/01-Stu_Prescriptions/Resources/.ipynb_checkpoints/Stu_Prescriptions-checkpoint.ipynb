{
 "cells": [
  {
   "cell_type": "code",
   "execution_count": 24,
   "metadata": {
    "collapsed": true,
    "nbgrader": {
     "grade": false,
     "grade_id": "cell-80277e293ad3d503",
     "locked": false,
     "schema_version": 1,
     "solution": true
    },
    "slideshow": {
     "slide_type": "slide"
    }
   },
   "outputs": [],
   "source": [
    "# Dependencies and boilerplate\n",
    "from sqlalchemy import Column, Float, Integer, String\n",
    "from sqlalchemy.ext.declarative import declarative_base\n",
    "\n",
    "from sqlalchemy import create_engine\n",
    "from sqlalchemy.orm import Session\n",
    "\n",
    "Base = declarative_base()"
   ]
  },
  {
   "cell_type": "code",
   "execution_count": 25,
   "metadata": {
    "collapsed": true,
    "nbgrader": {
     "grade": false,
     "grade_id": "cell-b43c0ebdf6e74efb",
     "locked": false,
     "schema_version": 1,
     "solution": true
    },
    "slideshow": {
     "slide_type": "slide"
    }
   },
   "outputs": [],
   "source": [
    "# Define a Prescription class\n",
    "class Prescription(Base):\n",
    "    __tablename__ = \"prescription\"\n",
    "    \n",
    "    id = Column(Integer, primary_key=True)\n",
    "    name = Column(String)\n",
    "    strength = Column(Float) # strength of dose in milligrams\n",
    "    doses_per_administration = Column(Integer) # number of doses per administration\n",
    "    route = Column(String) # oral, I.M., etc.\n",
    "    administrations_per_day = Column(String) # E.g., \"Twice per day\"\n",
    "    total_quantity_to_dispense = Column(Integer) # Number of pills to dispense\n",
    "    refill_limit = Column(Integer)\n",
    "    refill_frequency = Column(String)"
   ]
  },
  {
   "cell_type": "code",
   "execution_count": 26,
   "metadata": {
    "collapsed": true,
    "nbgrader": {
     "grade": false,
     "grade_id": "cell-de8bd89d19d0aea2",
     "locked": false,
     "schema_version": 1,
     "solution": true
    },
    "slideshow": {
     "slide_type": "slide"
    }
   },
   "outputs": [],
   "source": [
    "# Use a Session to test the Prescription class\n",
    "engine = create_engine(\"sqlite:///prescriptions.db\")\n",
    "Base.metadata.create_all(engine)\n",
    "\n",
    "session = Session(bind=engine)"
   ]
  },
  {
   "cell_type": "code",
   "execution_count": 27,
   "metadata": {
    "collapsed": true,
    "nbgrader": {
     "grade": false,
     "grade_id": "cell-38fe3058a58abf2e",
     "locked": false,
     "schema_version": 1,
     "solution": true
    },
    "slideshow": {
     "slide_type": "slide"
    }
   },
   "outputs": [],
   "source": [
    "# Create and add two new scripts\n",
    "haloperidol = Prescription(\n",
    "    name=\"Haloperidol\", \n",
    "    strength=1.0, \n",
    "    doses_per_administration=2,\n",
    "    route=\"oral\", \n",
    "    administrations_per_day=2,\n",
    "    total_quantity_to_dispense=120, # doses_per_administration * administrations_per_day * days_in_month (30),\n",
    "    refill_limit=1,\n",
    "    refill_frequency=\"monthly\")\n",
    "\n",
    "theriac = Prescription(\n",
    "    name=\"Theriac\",\n",
    "    strength=1000.0,\n",
    "    doses_per_administration=1,\n",
    "    route=\"oral\",\n",
    "    administrations_per_day=3,\n",
    "    total_quantity_to_dispense=90,\n",
    "    refill_limit=0,\n",
    "    refill_frequency=None\n",
    ")"
   ]
  },
  {
   "cell_type": "code",
   "execution_count": 28,
   "metadata": {
    "collapsed": true
   },
   "outputs": [],
   "source": [
    "# Prove that our DB is empty\n",
    "data = session.query(Prescription)\n",
    "\n",
    "for record in data:\n",
    "    print(record)"
   ]
  },
  {
   "cell_type": "code",
   "execution_count": 29,
   "metadata": {
    "collapsed": true,
    "nbgrader": {
     "grade": false,
     "grade_id": "cell-7fd78fb9c3cdf739",
     "locked": false,
     "schema_version": 1,
     "solution": true
    },
    "slideshow": {
     "slide_type": "slide"
    }
   },
   "outputs": [],
   "source": [
    "# Add and commit the two new scripts\n",
    "session.add_all([theriac, haloperidol])\n",
    "session.commit()"
   ]
  },
  {
   "cell_type": "code",
   "execution_count": 16,
   "metadata": {
    "nbgrader": {
     "grade": false,
     "grade_id": "cell-3127a3ebc13fd8eb",
     "locked": false,
     "schema_version": 1,
     "solution": true
    },
    "slideshow": {
     "slide_type": "slide"
    }
   },
   "outputs": [
    {
     "name": "stdout",
     "output_type": "stream",
     "text": [
      "Theriac\n",
      "------------\n",
      "Haloperidol\n",
      "------------\n"
     ]
    }
   ],
   "source": [
    "# Verify commit\n",
    "data = session.query(Prescription)\n",
    "\n",
    "for record in data:\n",
    "    print(record.name)\n",
    "    print(\"-\" * 12)"
   ]
  },
  {
   "cell_type": "code",
   "execution_count": null,
   "metadata": {
    "collapsed": true
   },
   "outputs": [],
   "source": []
  }
 ],
 "metadata": {
  "anaconda-cloud": {},
  "celltoolbar": "Create Assignment",
  "kernelspec": {
   "display_name": "Python 3",
   "language": "python",
   "name": "python3"
  },
  "language_info": {
   "codemirror_mode": {
    "name": "ipython",
    "version": 3
   },
   "file_extension": ".py",
   "mimetype": "text/x-python",
   "name": "python",
   "nbconvert_exporter": "python",
   "pygments_lexer": "ipython3",
   "version": "3.6.3"
  }
 },
 "nbformat": 4,
 "nbformat_minor": 1
}
